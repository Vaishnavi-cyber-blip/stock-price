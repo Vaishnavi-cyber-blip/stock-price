{
  "nbformat": 4,
  "nbformat_minor": 0,
  "metadata": {
    "colab": {
      "name": "StockPredict.ipynb",
      "provenance": [],
      "collapsed_sections": [],
      "authorship_tag": "ABX9TyMKnACQEocTcnzAAwaRmHXf",
      "include_colab_link": true
    },
    "kernelspec": {
      "name": "python3",
      "display_name": "Python 3"
    },
    "language_info": {
      "name": "python"
    }
  },
  "cells": [
    {
      "cell_type": "markdown",
      "metadata": {
        "id": "view-in-github",
        "colab_type": "text"
      },
      "source": [
        "<a href=\"https://colab.research.google.com/github/Vaishnavi-cyber-blip/stock-price/blob/main/StockPredict.ipynb\" target=\"_parent\"><img src=\"https://colab.research.google.com/assets/colab-badge.svg\" alt=\"Open In Colab\"/></a>"
      ]
    },
    {
      "cell_type": "code",
      "metadata": {
        "id": "RHp7zzpufTnP"
      },
      "source": [
        "import pandas_datareader as pdr\n",
        "import pandas as pd\n",
        "import numpy as np\n",
        "from sklearn.preprocessing import MinMaxScaler\n",
        "from tensorflow.keras.models import Sequential\n",
        "from tensorflow.keras.layers import Dense\n",
        "from tensorflow.keras.layers import LSTM\n",
        "import tensorflow as tf\n",
        "import matplotlib.pyplot as plt\n",
        "import math\n",
        "from sklearn.metrics import mean_squared_error"
      ],
      "execution_count": null,
      "outputs": []
    },
    {
      "cell_type": "code",
      "metadata": {
        "id": "ZsnAd3qlEtkY"
      },
      "source": [
        "key = '43210fb49481145203f782ffa978dcaeb618e051'\n",
        "df = pdr.get_data_tiingo('AAPL', api_key=key)\n",
        "df.to_csv('AAPL.csv')\n",
        "df = pd.read_csv('AAPL.csv')\n",
        "df1 = df.reset_index()['adjClose']"
      ],
      "execution_count": null,
      "outputs": []
    },
    {
      "cell_type": "code",
      "metadata": {
        "id": "yECzGspzGiRo"
      },
      "source": [
        "scaler=MinMaxScaler(feature_range=(0,1))\n",
        "df1=scaler.fit_transform(np.array(df1).reshape(-1,1))"
      ],
      "execution_count": null,
      "outputs": []
    },
    {
      "cell_type": "code",
      "metadata": {
        "id": "bUrPjTmxGtxj",
        "colab": {
          "base_uri": "https://localhost:8080/"
        },
        "outputId": "7e30c1c4-6e25-4edb-b7c7-08bfc48203ba"
      },
      "source": [
        "print(df1)"
      ],
      "execution_count": null,
      "outputs": [
        {
          "output_type": "stream",
          "text": [
            "[[0.00148542]\n",
            " [0.00393385]\n",
            " [0.00514872]\n",
            " ...\n",
            " [0.96662347]\n",
            " [0.97190609]\n",
            " [0.97366696]]\n"
          ],
          "name": "stdout"
        }
      ]
    },
    {
      "cell_type": "code",
      "metadata": {
        "id": "VIfcKwThG1gt"
      },
      "source": [
        "training_size=int(len(df1)*0.67)\n",
        "test_size=len(df1)-training_size\n",
        "train_data,test_data=df1[0:training_size,:],df1[training_size:len(df1),:1]"
      ],
      "execution_count": null,
      "outputs": []
    },
    {
      "cell_type": "code",
      "metadata": {
        "id": "MnWJly9NG-Qw"
      },
      "source": [
        "import numpy\n",
        "def create_dataset(dataset, time_step=1):\n",
        "\tdataX, dataY = [], []\n",
        "\tfor i in range(len(dataset)-time_step-1):\n",
        "\t\ta = dataset[i:(i+time_step), 0]   \n",
        "\t\tdataX.append(a)\n",
        "\t\tdataY.append(dataset[i + time_step, 0])\n",
        "\treturn numpy.array(dataX), numpy.array(dataY)"
      ],
      "execution_count": null,
      "outputs": []
    },
    {
      "cell_type": "code",
      "metadata": {
        "id": "KAiOCq57HDuN"
      },
      "source": [
        "time_step = 100\n",
        "X_train, y_train = create_dataset(train_data, time_step)\n",
        "X_test, ytest = create_dataset(test_data, time_step)"
      ],
      "execution_count": null,
      "outputs": []
    },
    {
      "cell_type": "code",
      "metadata": {
        "id": "XeGppUwIILWA"
      },
      "source": [
        "X_train =X_train.reshape(X_train.shape[0],X_train.shape[1] , 1)\n",
        "X_test = X_test.reshape(X_test.shape[0],X_test.shape[1] , 1)"
      ],
      "execution_count": null,
      "outputs": []
    },
    {
      "cell_type": "code",
      "metadata": {
        "id": "A6x5gBKBIUGZ"
      },
      "source": [
        "model=Sequential()\n",
        "model.add(LSTM(50,return_sequences=True,input_shape=(100,1)))\n",
        "model.add(LSTM(50,return_sequences=True))\n",
        "model.add(LSTM(50))\n",
        "model.add(Dense(1))\n",
        "model.compile(loss='mean_squared_error',optimizer='adam')"
      ],
      "execution_count": null,
      "outputs": []
    },
    {
      "cell_type": "code",
      "metadata": {
        "id": "JNJPs65JIt92",
        "colab": {
          "base_uri": "https://localhost:8080/"
        },
        "outputId": "3efd4aa2-5244-407d-cce2-5b5cfe27681f"
      },
      "source": [
        "model.summary()"
      ],
      "execution_count": null,
      "outputs": [
        {
          "output_type": "stream",
          "text": [
            "Model: \"sequential\"\n",
            "_________________________________________________________________\n",
            "Layer (type)                 Output Shape              Param #   \n",
            "=================================================================\n",
            "lstm (LSTM)                  (None, 100, 50)           10400     \n",
            "_________________________________________________________________\n",
            "lstm_1 (LSTM)                (None, 100, 50)           20200     \n",
            "_________________________________________________________________\n",
            "lstm_2 (LSTM)                (None, 50)                20200     \n",
            "_________________________________________________________________\n",
            "dense (Dense)                (None, 1)                 51        \n",
            "=================================================================\n",
            "Total params: 50,851\n",
            "Trainable params: 50,851\n",
            "Non-trainable params: 0\n",
            "_________________________________________________________________\n"
          ],
          "name": "stdout"
        }
      ]
    },
    {
      "cell_type": "code",
      "metadata": {
        "id": "dK-eika7JAdp",
        "colab": {
          "base_uri": "https://localhost:8080/"
        },
        "outputId": "d8b3e68a-f217-4f7f-c840-7783c12aef4e"
      },
      "source": [
        "model.fit(X_train,y_train,validation_data=(X_test,ytest),epochs=100,batch_size=64,verbose=1)"
      ],
      "execution_count": null,
      "outputs": [
        {
          "output_type": "stream",
          "text": [
            "Epoch 1/100\n",
            "12/12 [==============================] - 9s 285ms/step - loss: 0.0063 - val_loss: 0.1562\n",
            "Epoch 2/100\n",
            "12/12 [==============================] - 2s 187ms/step - loss: 0.0016 - val_loss: 0.0493\n",
            "Epoch 3/100\n",
            "12/12 [==============================] - 2s 185ms/step - loss: 7.5204e-04 - val_loss: 0.0142\n",
            "Epoch 4/100\n",
            "12/12 [==============================] - 2s 182ms/step - loss: 3.2980e-04 - val_loss: 0.0025\n",
            "Epoch 5/100\n",
            "12/12 [==============================] - 2s 195ms/step - loss: 3.0766e-04 - val_loss: 0.0025\n",
            "Epoch 6/100\n",
            "12/12 [==============================] - 2s 185ms/step - loss: 2.7404e-04 - val_loss: 0.0030\n",
            "Epoch 7/100\n",
            "12/12 [==============================] - 2s 194ms/step - loss: 2.5578e-04 - val_loss: 0.0023\n",
            "Epoch 8/100\n",
            "12/12 [==============================] - 2s 186ms/step - loss: 2.4396e-04 - val_loss: 0.0035\n",
            "Epoch 9/100\n",
            "12/12 [==============================] - 2s 183ms/step - loss: 2.2680e-04 - val_loss: 0.0039\n",
            "Epoch 10/100\n",
            "12/12 [==============================] - 2s 196ms/step - loss: 2.1704e-04 - val_loss: 0.0058\n",
            "Epoch 11/100\n",
            "12/12 [==============================] - 2s 201ms/step - loss: 2.1044e-04 - val_loss: 0.0042\n",
            "Epoch 12/100\n",
            "12/12 [==============================] - 2s 193ms/step - loss: 1.9316e-04 - val_loss: 0.0042\n",
            "Epoch 13/100\n",
            "12/12 [==============================] - 2s 184ms/step - loss: 1.8505e-04 - val_loss: 0.0059\n",
            "Epoch 14/100\n",
            "12/12 [==============================] - 2s 186ms/step - loss: 1.7364e-04 - val_loss: 0.0046\n",
            "Epoch 15/100\n",
            "12/12 [==============================] - 2s 197ms/step - loss: 1.6726e-04 - val_loss: 0.0040\n",
            "Epoch 16/100\n",
            "12/12 [==============================] - 2s 198ms/step - loss: 1.6129e-04 - val_loss: 0.0027\n",
            "Epoch 17/100\n",
            "12/12 [==============================] - 2s 195ms/step - loss: 1.5586e-04 - val_loss: 0.0031\n",
            "Epoch 18/100\n",
            "12/12 [==============================] - 2s 198ms/step - loss: 1.5318e-04 - val_loss: 0.0022\n",
            "Epoch 19/100\n",
            "12/12 [==============================] - 2s 204ms/step - loss: 1.7568e-04 - val_loss: 0.0029\n",
            "Epoch 20/100\n",
            "12/12 [==============================] - 2s 188ms/step - loss: 1.6896e-04 - val_loss: 0.0028\n",
            "Epoch 21/100\n",
            "12/12 [==============================] - 2s 188ms/step - loss: 1.4737e-04 - val_loss: 0.0022\n",
            "Epoch 22/100\n",
            "12/12 [==============================] - 2s 186ms/step - loss: 1.4090e-04 - val_loss: 0.0021\n",
            "Epoch 23/100\n",
            "12/12 [==============================] - 2s 200ms/step - loss: 1.4175e-04 - val_loss: 0.0033\n",
            "Epoch 24/100\n",
            "12/12 [==============================] - 2s 196ms/step - loss: 1.3395e-04 - val_loss: 0.0028\n",
            "Epoch 25/100\n",
            "12/12 [==============================] - 2s 187ms/step - loss: 1.4086e-04 - val_loss: 0.0028\n",
            "Epoch 26/100\n",
            "12/12 [==============================] - 2s 204ms/step - loss: 1.3343e-04 - val_loss: 0.0044\n",
            "Epoch 27/100\n",
            "12/12 [==============================] - 2s 188ms/step - loss: 1.3890e-04 - val_loss: 0.0086\n",
            "Epoch 28/100\n",
            "12/12 [==============================] - 2s 196ms/step - loss: 1.3575e-04 - val_loss: 0.0054\n",
            "Epoch 29/100\n",
            "12/12 [==============================] - 2s 207ms/step - loss: 1.2835e-04 - val_loss: 0.0048\n",
            "Epoch 30/100\n",
            "12/12 [==============================] - 2s 197ms/step - loss: 1.2525e-04 - val_loss: 0.0054\n",
            "Epoch 31/100\n",
            "12/12 [==============================] - 2s 199ms/step - loss: 1.2597e-04 - val_loss: 0.0098\n",
            "Epoch 32/100\n",
            "12/12 [==============================] - 2s 200ms/step - loss: 1.2983e-04 - val_loss: 0.0093\n",
            "Epoch 33/100\n",
            "12/12 [==============================] - 2s 210ms/step - loss: 1.2832e-04 - val_loss: 0.0038\n",
            "Epoch 34/100\n",
            "12/12 [==============================] - 2s 206ms/step - loss: 1.2357e-04 - val_loss: 0.0133\n",
            "Epoch 35/100\n",
            "12/12 [==============================] - 2s 196ms/step - loss: 1.2827e-04 - val_loss: 0.0072\n",
            "Epoch 36/100\n",
            "12/12 [==============================] - 2s 189ms/step - loss: 1.1870e-04 - val_loss: 0.0068\n",
            "Epoch 37/100\n",
            "12/12 [==============================] - 2s 201ms/step - loss: 1.1568e-04 - val_loss: 0.0073\n",
            "Epoch 38/100\n",
            "12/12 [==============================] - 2s 200ms/step - loss: 1.3279e-04 - val_loss: 0.0068\n",
            "Epoch 39/100\n",
            "12/12 [==============================] - 2s 199ms/step - loss: 1.2043e-04 - val_loss: 0.0043\n",
            "Epoch 40/100\n",
            "12/12 [==============================] - 2s 193ms/step - loss: 1.1275e-04 - val_loss: 0.0064\n",
            "Epoch 41/100\n",
            "12/12 [==============================] - 2s 195ms/step - loss: 1.1446e-04 - val_loss: 0.0068\n",
            "Epoch 42/100\n",
            "12/12 [==============================] - 2s 187ms/step - loss: 1.1253e-04 - val_loss: 0.0071\n",
            "Epoch 43/100\n",
            "12/12 [==============================] - 2s 198ms/step - loss: 1.0861e-04 - val_loss: 0.0036\n",
            "Epoch 44/100\n",
            "12/12 [==============================] - 2s 197ms/step - loss: 1.1184e-04 - val_loss: 0.0067\n",
            "Epoch 45/100\n",
            "12/12 [==============================] - 2s 207ms/step - loss: 1.0702e-04 - val_loss: 0.0078\n",
            "Epoch 46/100\n",
            "12/12 [==============================] - 2s 196ms/step - loss: 1.1542e-04 - val_loss: 0.0042\n",
            "Epoch 47/100\n",
            "12/12 [==============================] - 2s 199ms/step - loss: 1.0734e-04 - val_loss: 0.0032\n",
            "Epoch 48/100\n",
            "12/12 [==============================] - 2s 188ms/step - loss: 1.0835e-04 - val_loss: 0.0044\n",
            "Epoch 49/100\n",
            "12/12 [==============================] - 2s 188ms/step - loss: 1.1088e-04 - val_loss: 0.0046\n",
            "Epoch 50/100\n",
            "12/12 [==============================] - 2s 188ms/step - loss: 1.0231e-04 - val_loss: 0.0033\n",
            "Epoch 51/100\n",
            "12/12 [==============================] - 2s 190ms/step - loss: 1.0493e-04 - val_loss: 0.0033\n",
            "Epoch 52/100\n",
            "12/12 [==============================] - 2s 191ms/step - loss: 1.0977e-04 - val_loss: 0.0018\n",
            "Epoch 53/100\n",
            "12/12 [==============================] - 2s 196ms/step - loss: 1.0476e-04 - val_loss: 0.0022\n",
            "Epoch 54/100\n",
            "12/12 [==============================] - 2s 191ms/step - loss: 1.0281e-04 - val_loss: 0.0020\n",
            "Epoch 55/100\n",
            "12/12 [==============================] - 2s 193ms/step - loss: 9.6955e-05 - val_loss: 0.0022\n",
            "Epoch 56/100\n",
            "12/12 [==============================] - 2s 201ms/step - loss: 1.0400e-04 - val_loss: 0.0021\n",
            "Epoch 57/100\n",
            "12/12 [==============================] - 2s 192ms/step - loss: 1.0321e-04 - val_loss: 0.0019\n",
            "Epoch 58/100\n",
            "12/12 [==============================] - 2s 190ms/step - loss: 9.4004e-05 - val_loss: 0.0018\n",
            "Epoch 59/100\n",
            "12/12 [==============================] - 2s 192ms/step - loss: 9.6459e-05 - val_loss: 0.0018\n",
            "Epoch 60/100\n",
            "12/12 [==============================] - 2s 192ms/step - loss: 9.2638e-05 - val_loss: 0.0018\n",
            "Epoch 61/100\n",
            "12/12 [==============================] - 2s 192ms/step - loss: 9.3041e-05 - val_loss: 0.0020\n",
            "Epoch 62/100\n",
            "12/12 [==============================] - 2s 199ms/step - loss: 9.0625e-05 - val_loss: 0.0018\n",
            "Epoch 63/100\n",
            "12/12 [==============================] - 2s 189ms/step - loss: 9.3909e-05 - val_loss: 0.0023\n",
            "Epoch 64/100\n",
            "12/12 [==============================] - 2s 193ms/step - loss: 8.9436e-05 - val_loss: 0.0017\n",
            "Epoch 65/100\n",
            "12/12 [==============================] - 2s 204ms/step - loss: 8.9547e-05 - val_loss: 0.0017\n",
            "Epoch 66/100\n",
            "12/12 [==============================] - 2s 189ms/step - loss: 8.9017e-05 - val_loss: 0.0027\n",
            "Epoch 67/100\n",
            "12/12 [==============================] - 2s 196ms/step - loss: 9.2652e-05 - val_loss: 0.0030\n",
            "Epoch 68/100\n",
            "12/12 [==============================] - 2s 198ms/step - loss: 1.0096e-04 - val_loss: 0.0028\n",
            "Epoch 69/100\n",
            "12/12 [==============================] - 2s 196ms/step - loss: 9.1219e-05 - val_loss: 0.0016\n",
            "Epoch 70/100\n",
            "12/12 [==============================] - 2s 205ms/step - loss: 8.5552e-05 - val_loss: 0.0017\n",
            "Epoch 71/100\n",
            "12/12 [==============================] - 2s 193ms/step - loss: 8.5987e-05 - val_loss: 0.0051\n",
            "Epoch 72/100\n",
            "12/12 [==============================] - 2s 190ms/step - loss: 1.0786e-04 - val_loss: 0.0026\n",
            "Epoch 73/100\n",
            "12/12 [==============================] - 2s 197ms/step - loss: 8.7348e-05 - val_loss: 0.0019\n",
            "Epoch 74/100\n",
            "12/12 [==============================] - 2s 191ms/step - loss: 8.0757e-05 - val_loss: 0.0020\n",
            "Epoch 75/100\n",
            "12/12 [==============================] - 2s 195ms/step - loss: 8.3034e-05 - val_loss: 0.0017\n",
            "Epoch 76/100\n",
            "12/12 [==============================] - 2s 197ms/step - loss: 8.2316e-05 - val_loss: 0.0042\n",
            "Epoch 77/100\n",
            "12/12 [==============================] - 2s 199ms/step - loss: 8.0791e-05 - val_loss: 0.0022\n",
            "Epoch 78/100\n",
            "12/12 [==============================] - 2s 201ms/step - loss: 8.3808e-05 - val_loss: 0.0017\n",
            "Epoch 79/100\n",
            "12/12 [==============================] - 2s 191ms/step - loss: 8.1456e-05 - val_loss: 0.0019\n",
            "Epoch 80/100\n",
            "12/12 [==============================] - 2s 197ms/step - loss: 7.9663e-05 - val_loss: 0.0019\n",
            "Epoch 81/100\n",
            "12/12 [==============================] - 2s 197ms/step - loss: 8.0628e-05 - val_loss: 0.0026\n",
            "Epoch 82/100\n",
            "12/12 [==============================] - 2s 199ms/step - loss: 7.7418e-05 - val_loss: 0.0028\n",
            "Epoch 83/100\n",
            "12/12 [==============================] - 2s 202ms/step - loss: 7.5575e-05 - val_loss: 0.0051\n",
            "Epoch 84/100\n",
            "12/12 [==============================] - 2s 200ms/step - loss: 8.5731e-05 - val_loss: 0.0020\n",
            "Epoch 85/100\n",
            "12/12 [==============================] - 2s 194ms/step - loss: 1.0206e-04 - val_loss: 0.0015\n",
            "Epoch 86/100\n",
            "12/12 [==============================] - 2s 196ms/step - loss: 7.9265e-05 - val_loss: 0.0045\n",
            "Epoch 87/100\n",
            "12/12 [==============================] - 2s 197ms/step - loss: 8.0333e-05 - val_loss: 0.0072\n",
            "Epoch 88/100\n",
            "12/12 [==============================] - 2s 187ms/step - loss: 8.6542e-05 - val_loss: 0.0037\n",
            "Epoch 89/100\n",
            "12/12 [==============================] - 2s 205ms/step - loss: 7.6483e-05 - val_loss: 0.0040\n",
            "Epoch 90/100\n",
            "12/12 [==============================] - 2s 198ms/step - loss: 7.2100e-05 - val_loss: 0.0061\n",
            "Epoch 91/100\n",
            "12/12 [==============================] - 2s 197ms/step - loss: 6.9616e-05 - val_loss: 0.0051\n",
            "Epoch 92/100\n",
            "12/12 [==============================] - 2s 194ms/step - loss: 8.1184e-05 - val_loss: 0.0071\n",
            "Epoch 93/100\n",
            "12/12 [==============================] - 2s 187ms/step - loss: 7.8110e-05 - val_loss: 0.0044\n",
            "Epoch 94/100\n",
            "12/12 [==============================] - 2s 195ms/step - loss: 9.5490e-05 - val_loss: 0.0031\n",
            "Epoch 95/100\n",
            "12/12 [==============================] - 2s 194ms/step - loss: 8.2525e-05 - val_loss: 0.0014\n",
            "Epoch 96/100\n",
            "12/12 [==============================] - 2s 197ms/step - loss: 7.1823e-05 - val_loss: 0.0018\n",
            "Epoch 97/100\n",
            "12/12 [==============================] - 2s 206ms/step - loss: 8.5870e-05 - val_loss: 0.0023\n",
            "Epoch 98/100\n",
            "12/12 [==============================] - 2s 206ms/step - loss: 6.8921e-05 - val_loss: 0.0014\n",
            "Epoch 99/100\n",
            "12/12 [==============================] - 2s 200ms/step - loss: 9.5190e-05 - val_loss: 0.0015\n",
            "Epoch 100/100\n",
            "12/12 [==============================] - 2s 188ms/step - loss: 9.2531e-05 - val_loss: 0.0012\n"
          ],
          "name": "stdout"
        },
        {
          "output_type": "execute_result",
          "data": {
            "text/plain": [
              "<tensorflow.python.keras.callbacks.History at 0x7fe41f21b2d0>"
            ]
          },
          "metadata": {
            "tags": []
          },
          "execution_count": 11
        }
      ]
    },
    {
      "cell_type": "code",
      "metadata": {
        "id": "eo0aTb4IJGpa"
      },
      "source": [
        "train_predict=model.predict(X_train)\n",
        "test_predict=model.predict(X_test)"
      ],
      "execution_count": null,
      "outputs": []
    },
    {
      "cell_type": "code",
      "metadata": {
        "id": "M_TY-WWpJKG2"
      },
      "source": [
        "train_predict=scaler.inverse_transform(train_predict)\n",
        "test_predict=scaler.inverse_transform(test_predict)"
      ],
      "execution_count": null,
      "outputs": []
    },
    {
      "cell_type": "code",
      "metadata": {
        "id": "OYeqpID3JNvD",
        "colab": {
          "base_uri": "https://localhost:8080/"
        },
        "outputId": "07ce6cf4-712a-42a2-eb4b-b51fd0a39599"
      },
      "source": [
        "math.sqrt(mean_squared_error(y_train,train_predict))"
      ],
      "execution_count": null,
      "outputs": [
        {
          "output_type": "execute_result",
          "data": {
            "text/plain": [
              "44.1638198226284"
            ]
          },
          "metadata": {
            "tags": []
          },
          "execution_count": 14
        }
      ]
    },
    {
      "cell_type": "code",
      "metadata": {
        "id": "Bo5TCylcJZxf",
        "colab": {
          "base_uri": "https://localhost:8080/"
        },
        "outputId": "d86de9f5-1321-4ce3-ec70-d18f1ebbe8c1"
      },
      "source": [
        "math.sqrt(mean_squared_error(ytest,test_predict))"
      ],
      "execution_count": null,
      "outputs": [
        {
          "output_type": "execute_result",
          "data": {
            "text/plain": [
              "119.18831658437351"
            ]
          },
          "metadata": {
            "tags": []
          },
          "execution_count": 15
        }
      ]
    },
    {
      "cell_type": "code",
      "metadata": {
        "colab": {
          "base_uri": "https://localhost:8080/",
          "height": 269
        },
        "id": "-V_0uf9kLPDM",
        "outputId": "e8bb2b60-268e-4469-f25b-672a32ffcc91"
      },
      "source": [
        "look_back=100\n",
        "trainPredictPlot = numpy.empty_like(df1)\n",
        "trainPredictPlot[:, :] = np.nan\n",
        "trainPredictPlot[look_back:len(train_predict)+look_back, :] = train_predict\n",
        "# shift test predictions for plotting\n",
        "testPredictPlot = numpy.empty_like(df1)\n",
        "testPredictPlot[:, :] = numpy.nan\n",
        "testPredictPlot[len(train_predict)+(look_back*2)+1:len(df1)-1, :] = test_predict\n",
        "# plot baseline and predictions\n",
        "plt.plot(scaler.inverse_transform(df1))\n",
        "plt.plot(trainPredictPlot)\n",
        "plt.plot(testPredictPlot)\n",
        "plt.show()"
      ],
      "execution_count": null,
      "outputs": [
        {
          "output_type": "display_data",
          "data": {
            "image/png": "[encoded data removed]",
            "text/plain": [
              "<Figure size 432x288 with 1 Axes>"
            ]
          },
          "metadata": {
            "tags": [],
            "needs_background": "light"
          }
        }
      ]
    },
    {
      "cell_type": "code",
      "metadata": {
        "colab": {
          "base_uri": "https://localhost:8080/"
        },
        "id": "z4vyXjvxPeeV",
        "outputId": "026ca9f0-82ee-4448-a2d7-c639c611b140"
      },
      "source": [
        "accuracy = model.evaluate(X_test,ytest)\n",
        "print(accuracy)"
      ],
      "execution_count": null,
      "outputs": [
        {
          "output_type": "stream",
          "text": [
            "10/10 [==============================] - 0s 34ms/step - loss: 0.0012\n",
            "0.0012427340261638165\n"
          ],
          "name": "stdout"
        }
      ]
    }
  ]
}