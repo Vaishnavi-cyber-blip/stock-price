{
  "nbformat": 4,
  "nbformat_minor": 0,
  "metadata": {
    "colab": {
      "name": "StockPredict.ipynb",
      "provenance": [],
      "collapsed_sections": [],
      "authorship_tag": "ABX9TyOyN5VONTzl4c9lSeR0ctrB",
      "include_colab_link": true
    },
    "kernelspec": {
      "name": "python3",
      "display_name": "Python 3"
    },
    "language_info": {
      "name": "python"
    }
  },
  "cells": [
    {
      "cell_type": "markdown",
      "metadata": {
        "id": "view-in-github",
        "colab_type": "text"
      },
      "source": [
        "<a href=\"https://colab.research.google.com/github/Vaishnavi-cyber-blip/stock-price/blob/master/StockPredict.ipynb\" target=\"_parent\"><img src=\"https://colab.research.google.com/assets/colab-badge.svg\" alt=\"Open In Colab\"/></a>"
      ]
    },
    {
      "cell_type": "code",
      "metadata": {
        "id": "RHp7zzpufTnP"
      },
      "source": [
        "import pandas_datareader as pdr\n",
        "import pandas as pd\n",
        "import numpy as np\n",
        "from sklearn.preprocessing import MinMaxScaler\n",
        "from tensorflow.keras.models import Sequential\n",
        "from tensorflow.keras.layers import Dense\n",
        "from tensorflow.keras.layers import LSTM\n",
        "import tensorflow as tf\n",
        "import matplotlib.pyplot as plt\n",
        "import math\n",
        "from sklearn.metrics import mean_squared_error"
      ],
      "execution_count": null,
      "outputs": []
    },
    {
      "cell_type": "code",
      "metadata": {
        "id": "ZsnAd3qlEtkY"
      },
      "source": [
        "key = 'Your Key'\n",
        "df = pdr.get_data_tiingo('AAPL', api_key=key)\n",
        "df.to_csv('AAPL.csv')\n",
        "df = pd.read_csv('AAPL.csv')\n",
        "df1 = df.reset_index()['adjClose']"
      ],
      "execution_count": null,
      "outputs": []
    },
    {
      "cell_type": "code",
      "metadata": {
        "id": "yECzGspzGiRo"
      },
      "source": [
        "scaler=MinMaxScaler(feature_range=(0,1))\n",
        "df1=scaler.fit_transform(np.array(df1).reshape(-1,1))"
      ],
      "execution_count": null,
      "outputs": []
    },
    {
      "cell_type": "code",
      "metadata": {
        "id": "bUrPjTmxGtxj",
        "colab": {
          "base_uri": "https://localhost:8080/"
        },
        "outputId": "1dc88817-bdc0-44e1-b34b-a2b9a60cdee0"
      },
      "source": [
        "print(df1)"
      ],
      "execution_count": null,
      "outputs": [
        {
          "output_type": "stream",
          "text": [
            "[[9.80778972e-04]\n",
            " [4.41979992e-03]\n",
            " [1.48541792e-03]\n",
            " ...\n",
            " [9.95277662e-01]\n",
            " [9.98719366e-01]\n",
            " [9.80950567e-01]]\n"
          ],
          "name": "stdout"
        }
      ]
    },
    {
      "cell_type": "code",
      "metadata": {
        "id": "VIfcKwThG1gt"
      },
      "source": [
        "training_size=int(len(df1)*0.67)\n",
        "test_size=len(df1)-training_size\n",
        "train_data,test_data=df1[0:training_size,:],df1[training_size:len(df1),:1]"
      ],
      "execution_count": null,
      "outputs": []
    },
    {
      "cell_type": "code",
      "metadata": {
        "id": "MnWJly9NG-Qw"
      },
      "source": [
        "import numpy\n",
        "def create_dataset(dataset, time_step=1):\n",
        "\tdataX, dataY = [], []\n",
        "\tfor i in range(len(dataset)-time_step-1):\n",
        "\t\ta = dataset[i:(i+time_step), 0]   \n",
        "\t\tdataX.append(a)\n",
        "\t\tdataY.append(dataset[i + time_step, 0])\n",
        "\treturn numpy.array(dataX), numpy.array(dataY)"
      ],
      "execution_count": null,
      "outputs": []
    },
    {
      "cell_type": "code",
      "metadata": {
        "id": "KAiOCq57HDuN"
      },
      "source": [
        "time_step = 100\n",
        "X_train, y_train = create_dataset(train_data, time_step)\n",
        "X_test, ytest = create_dataset(test_data, time_step)"
      ],
      "execution_count": null,
      "outputs": []
    },
    {
      "cell_type": "code",
      "metadata": {
        "id": "XeGppUwIILWA"
      },
      "source": [
        "X_train =X_train.reshape(X_train.shape[0],X_train.shape[1] , 1)\n",
        "X_test = X_test.reshape(X_test.shape[0],X_test.shape[1] , 1)"
      ],
      "execution_count": null,
      "outputs": []
    },
    {
      "cell_type": "code",
      "metadata": {
        "id": "A6x5gBKBIUGZ"
      },
      "source": [
        "model=Sequential()\n",
        "model.add(LSTM(50,return_sequences=True,input_shape=(100,1)))\n",
        "model.add(LSTM(50,return_sequences=True))\n",
        "model.add(LSTM(50))\n",
        "model.add(Dense(1))\n",
        "model.compile(loss='mean_squared_error',optimizer='adam')"
      ],
      "execution_count": null,
      "outputs": []
    },
    {
      "cell_type": "code",
      "metadata": {
        "id": "JNJPs65JIt92",
        "colab": {
          "base_uri": "https://localhost:8080/"
        },
        "outputId": "b45a20d9-443c-4c94-e278-fe69b27e3000"
      },
      "source": [
        "model.summary()"
      ],
      "execution_count": null,
      "outputs": [
        {
          "output_type": "stream",
          "text": [
            "Model: \"sequential_1\"\n",
            "_________________________________________________________________\n",
            "Layer (type)                 Output Shape              Param #   \n",
            "=================================================================\n",
            "lstm_3 (LSTM)                (None, 100, 50)           10400     \n",
            "_________________________________________________________________\n",
            "lstm_4 (LSTM)                (None, 100, 50)           20200     \n",
            "_________________________________________________________________\n",
            "lstm_5 (LSTM)                (None, 50)                20200     \n",
            "_________________________________________________________________\n",
            "dense_1 (Dense)              (None, 1)                 51        \n",
            "=================================================================\n",
            "Total params: 50,851\n",
            "Trainable params: 50,851\n",
            "Non-trainable params: 0\n",
            "_________________________________________________________________\n"
          ],
          "name": "stdout"
        }
      ]
    },
    {
      "cell_type": "code",
      "metadata": {
        "id": "dK-eika7JAdp",
        "colab": {
          "base_uri": "https://localhost:8080/"
        },
        "outputId": "478c1400-c4c7-46e7-b84c-7ad85c03fd6f"
      },
      "source": [
        "model.fit(X_train,y_train,validation_data=(X_test,ytest),epochs=100,batch_size=64,verbose=1)"
      ],
      "execution_count": null,
      "outputs": [
        {
          "output_type": "stream",
          "text": [
            "Epoch 1/100\n",
            "12/12 [==============================] - 8s 286ms/step - loss: 0.0079 - val_loss: 0.1422\n",
            "Epoch 2/100\n",
            "12/12 [==============================] - 2s 187ms/step - loss: 0.0020 - val_loss: 0.0454\n",
            "Epoch 3/100\n",
            "12/12 [==============================] - 2s 186ms/step - loss: 0.0010 - val_loss: 0.0318\n",
            "Epoch 4/100\n",
            "12/12 [==============================] - 2s 188ms/step - loss: 3.7592e-04 - val_loss: 0.0024\n",
            "Epoch 5/100\n",
            "12/12 [==============================] - 2s 187ms/step - loss: 2.8945e-04 - val_loss: 0.0026\n",
            "Epoch 6/100\n",
            "12/12 [==============================] - 2s 187ms/step - loss: 2.7764e-04 - val_loss: 0.0038\n",
            "Epoch 7/100\n",
            "12/12 [==============================] - 2s 188ms/step - loss: 2.6046e-04 - val_loss: 0.0027\n",
            "Epoch 8/100\n",
            "12/12 [==============================] - 2s 185ms/step - loss: 2.4668e-04 - val_loss: 0.0028\n",
            "Epoch 9/100\n",
            "12/12 [==============================] - 2s 187ms/step - loss: 2.3278e-04 - val_loss: 0.0029\n",
            "Epoch 10/100\n",
            "12/12 [==============================] - 2s 185ms/step - loss: 2.2603e-04 - val_loss: 0.0027\n",
            "Epoch 11/100\n",
            "12/12 [==============================] - 2s 186ms/step - loss: 2.1733e-04 - val_loss: 0.0029\n",
            "Epoch 12/100\n",
            "12/12 [==============================] - 2s 185ms/step - loss: 2.1065e-04 - val_loss: 0.0040\n",
            "Epoch 13/100\n",
            "12/12 [==============================] - 2s 185ms/step - loss: 2.0285e-04 - val_loss: 0.0035\n",
            "Epoch 14/100\n",
            "12/12 [==============================] - 2s 185ms/step - loss: 1.9130e-04 - val_loss: 0.0058\n",
            "Epoch 15/100\n",
            "12/12 [==============================] - 2s 191ms/step - loss: 1.8613e-04 - val_loss: 0.0033\n",
            "Epoch 16/100\n",
            "12/12 [==============================] - 2s 189ms/step - loss: 1.7897e-04 - val_loss: 0.0042\n",
            "Epoch 17/100\n",
            "12/12 [==============================] - 2s 189ms/step - loss: 1.7058e-04 - val_loss: 0.0022\n",
            "Epoch 18/100\n",
            "12/12 [==============================] - 2s 188ms/step - loss: 1.6704e-04 - val_loss: 0.0028\n",
            "Epoch 19/100\n",
            "12/12 [==============================] - 2s 188ms/step - loss: 1.6127e-04 - val_loss: 0.0025\n",
            "Epoch 20/100\n",
            "12/12 [==============================] - 2s 192ms/step - loss: 1.7097e-04 - val_loss: 0.0035\n",
            "Epoch 21/100\n",
            "12/12 [==============================] - 2s 187ms/step - loss: 1.6018e-04 - val_loss: 0.0021\n",
            "Epoch 22/100\n",
            "12/12 [==============================] - 2s 188ms/step - loss: 1.5500e-04 - val_loss: 0.0021\n",
            "Epoch 23/100\n",
            "12/12 [==============================] - 2s 188ms/step - loss: 1.5400e-04 - val_loss: 0.0025\n",
            "Epoch 24/100\n",
            "12/12 [==============================] - 2s 191ms/step - loss: 1.6044e-04 - val_loss: 0.0024\n",
            "Epoch 25/100\n",
            "12/12 [==============================] - 2s 187ms/step - loss: 1.6936e-04 - val_loss: 0.0034\n",
            "Epoch 26/100\n",
            "12/12 [==============================] - 2s 187ms/step - loss: 1.6290e-04 - val_loss: 0.0020\n",
            "Epoch 27/100\n",
            "12/12 [==============================] - 2s 190ms/step - loss: 1.4299e-04 - val_loss: 0.0020\n",
            "Epoch 28/100\n",
            "12/12 [==============================] - 2s 188ms/step - loss: 1.3872e-04 - val_loss: 0.0022\n",
            "Epoch 29/100\n",
            "12/12 [==============================] - 2s 193ms/step - loss: 1.3800e-04 - val_loss: 0.0020\n",
            "Epoch 30/100\n",
            "12/12 [==============================] - 2s 191ms/step - loss: 1.3512e-04 - val_loss: 0.0026\n",
            "Epoch 31/100\n",
            "12/12 [==============================] - 2s 189ms/step - loss: 1.3660e-04 - val_loss: 0.0029\n",
            "Epoch 32/100\n",
            "12/12 [==============================] - 2s 188ms/step - loss: 1.3257e-04 - val_loss: 0.0019\n",
            "Epoch 33/100\n",
            "12/12 [==============================] - 2s 189ms/step - loss: 1.3594e-04 - val_loss: 0.0024\n",
            "Epoch 34/100\n",
            "12/12 [==============================] - 2s 188ms/step - loss: 1.3550e-04 - val_loss: 0.0022\n",
            "Epoch 35/100\n",
            "12/12 [==============================] - 2s 188ms/step - loss: 1.4234e-04 - val_loss: 0.0023\n",
            "Epoch 36/100\n",
            "12/12 [==============================] - 2s 187ms/step - loss: 1.6288e-04 - val_loss: 0.0025\n",
            "Epoch 37/100\n",
            "12/12 [==============================] - 2s 187ms/step - loss: 1.4001e-04 - val_loss: 0.0026\n",
            "Epoch 38/100\n",
            "12/12 [==============================] - 2s 189ms/step - loss: 1.2517e-04 - val_loss: 0.0027\n",
            "Epoch 39/100\n",
            "12/12 [==============================] - 2s 187ms/step - loss: 1.3002e-04 - val_loss: 0.0019\n",
            "Epoch 40/100\n",
            "12/12 [==============================] - 2s 187ms/step - loss: 1.3184e-04 - val_loss: 0.0017\n",
            "Epoch 41/100\n",
            "12/12 [==============================] - 2s 191ms/step - loss: 1.2346e-04 - val_loss: 0.0036\n",
            "Epoch 42/100\n",
            "12/12 [==============================] - 2s 188ms/step - loss: 1.2557e-04 - val_loss: 0.0033\n",
            "Epoch 43/100\n",
            "12/12 [==============================] - 2s 189ms/step - loss: 1.2034e-04 - val_loss: 0.0024\n",
            "Epoch 44/100\n",
            "12/12 [==============================] - 2s 188ms/step - loss: 1.1906e-04 - val_loss: 0.0034\n",
            "Epoch 45/100\n",
            "12/12 [==============================] - 2s 189ms/step - loss: 1.2530e-04 - val_loss: 0.0029\n",
            "Epoch 46/100\n",
            "12/12 [==============================] - 2s 186ms/step - loss: 1.2030e-04 - val_loss: 0.0020\n",
            "Epoch 47/100\n",
            "12/12 [==============================] - 2s 187ms/step - loss: 1.1577e-04 - val_loss: 0.0017\n",
            "Epoch 48/100\n",
            "12/12 [==============================] - 2s 188ms/step - loss: 1.2282e-04 - val_loss: 0.0026\n",
            "Epoch 49/100\n",
            "12/12 [==============================] - 2s 185ms/step - loss: 1.2564e-04 - val_loss: 0.0043\n",
            "Epoch 50/100\n",
            "12/12 [==============================] - 2s 190ms/step - loss: 1.1912e-04 - val_loss: 0.0019\n",
            "Epoch 51/100\n",
            "12/12 [==============================] - 2s 186ms/step - loss: 1.1086e-04 - val_loss: 0.0032\n",
            "Epoch 52/100\n",
            "12/12 [==============================] - 2s 189ms/step - loss: 1.1094e-04 - val_loss: 0.0017\n",
            "Epoch 53/100\n",
            "12/12 [==============================] - 2s 187ms/step - loss: 1.0911e-04 - val_loss: 0.0036\n",
            "Epoch 54/100\n",
            "12/12 [==============================] - 2s 192ms/step - loss: 1.1356e-04 - val_loss: 0.0036\n",
            "Epoch 55/100\n",
            "12/12 [==============================] - 2s 187ms/step - loss: 1.3647e-04 - val_loss: 0.0017\n",
            "Epoch 56/100\n",
            "12/12 [==============================] - 2s 189ms/step - loss: 1.1384e-04 - val_loss: 0.0028\n",
            "Epoch 57/100\n",
            "12/12 [==============================] - 2s 188ms/step - loss: 1.0618e-04 - val_loss: 0.0019\n",
            "Epoch 58/100\n",
            "12/12 [==============================] - 2s 191ms/step - loss: 1.0635e-04 - val_loss: 0.0017\n",
            "Epoch 59/100\n",
            "12/12 [==============================] - 2s 188ms/step - loss: 1.1532e-04 - val_loss: 0.0014\n",
            "Epoch 60/100\n",
            "12/12 [==============================] - 2s 188ms/step - loss: 1.1210e-04 - val_loss: 0.0033\n",
            "Epoch 61/100\n",
            "12/12 [==============================] - 2s 189ms/step - loss: 1.0715e-04 - val_loss: 0.0033\n",
            "Epoch 62/100\n",
            "12/12 [==============================] - 2s 195ms/step - loss: 1.1093e-04 - val_loss: 0.0025\n",
            "Epoch 63/100\n",
            "12/12 [==============================] - 2s 189ms/step - loss: 1.0568e-04 - val_loss: 0.0022\n",
            "Epoch 64/100\n",
            "12/12 [==============================] - 2s 188ms/step - loss: 1.0730e-04 - val_loss: 0.0018\n",
            "Epoch 65/100\n",
            "12/12 [==============================] - 2s 188ms/step - loss: 1.0875e-04 - val_loss: 0.0021\n",
            "Epoch 66/100\n",
            "12/12 [==============================] - 2s 189ms/step - loss: 1.0300e-04 - val_loss: 0.0021\n",
            "Epoch 67/100\n",
            "12/12 [==============================] - 2s 189ms/step - loss: 9.8700e-05 - val_loss: 0.0047\n",
            "Epoch 68/100\n",
            "12/12 [==============================] - 2s 189ms/step - loss: 1.0917e-04 - val_loss: 0.0054\n",
            "Epoch 69/100\n",
            "12/12 [==============================] - 2s 192ms/step - loss: 9.7835e-05 - val_loss: 0.0021\n",
            "Epoch 70/100\n",
            "12/12 [==============================] - 2s 191ms/step - loss: 9.6565e-05 - val_loss: 0.0050\n",
            "Epoch 71/100\n",
            "12/12 [==============================] - 2s 186ms/step - loss: 9.7128e-05 - val_loss: 0.0057\n",
            "Epoch 72/100\n",
            "12/12 [==============================] - 2s 191ms/step - loss: 1.0024e-04 - val_loss: 0.0032\n",
            "Epoch 73/100\n",
            "12/12 [==============================] - 2s 187ms/step - loss: 1.0102e-04 - val_loss: 0.0020\n",
            "Epoch 74/100\n",
            "12/12 [==============================] - 2s 189ms/step - loss: 8.9921e-05 - val_loss: 0.0034\n",
            "Epoch 75/100\n",
            "12/12 [==============================] - 2s 186ms/step - loss: 9.0432e-05 - val_loss: 0.0044\n",
            "Epoch 76/100\n",
            "12/12 [==============================] - 2s 189ms/step - loss: 8.6750e-05 - val_loss: 0.0058\n",
            "Epoch 77/100\n",
            "12/12 [==============================] - 2s 186ms/step - loss: 8.5230e-05 - val_loss: 0.0054\n",
            "Epoch 78/100\n",
            "12/12 [==============================] - 2s 189ms/step - loss: 8.9379e-05 - val_loss: 0.0032\n",
            "Epoch 79/100\n",
            "12/12 [==============================] - 2s 189ms/step - loss: 9.4677e-05 - val_loss: 0.0053\n",
            "Epoch 80/100\n",
            "12/12 [==============================] - 2s 188ms/step - loss: 9.9055e-05 - val_loss: 0.0072\n",
            "Epoch 81/100\n",
            "12/12 [==============================] - 2s 189ms/step - loss: 8.4027e-05 - val_loss: 0.0047\n",
            "Epoch 82/100\n",
            "12/12 [==============================] - 2s 192ms/step - loss: 9.2472e-05 - val_loss: 0.0085\n",
            "Epoch 83/100\n",
            "12/12 [==============================] - 2s 187ms/step - loss: 9.0146e-05 - val_loss: 0.0081\n",
            "Epoch 84/100\n",
            "12/12 [==============================] - 2s 187ms/step - loss: 8.2886e-05 - val_loss: 0.0059\n",
            "Epoch 85/100\n",
            "12/12 [==============================] - 2s 187ms/step - loss: 8.1068e-05 - val_loss: 0.0058\n",
            "Epoch 86/100\n",
            "12/12 [==============================] - 2s 192ms/step - loss: 7.8398e-05 - val_loss: 0.0069\n",
            "Epoch 87/100\n",
            "12/12 [==============================] - 2s 186ms/step - loss: 7.8357e-05 - val_loss: 0.0068\n",
            "Epoch 88/100\n",
            "12/12 [==============================] - 2s 188ms/step - loss: 7.8461e-05 - val_loss: 0.0051\n",
            "Epoch 89/100\n",
            "12/12 [==============================] - 2s 187ms/step - loss: 7.8099e-05 - val_loss: 0.0061\n",
            "Epoch 90/100\n",
            "12/12 [==============================] - 2s 190ms/step - loss: 7.6493e-05 - val_loss: 0.0075\n",
            "Epoch 91/100\n",
            "12/12 [==============================] - 2s 193ms/step - loss: 7.7577e-05 - val_loss: 0.0104\n",
            "Epoch 92/100\n",
            "12/12 [==============================] - 2s 190ms/step - loss: 7.7309e-05 - val_loss: 0.0102\n",
            "Epoch 93/100\n",
            "12/12 [==============================] - 2s 187ms/step - loss: 8.6993e-05 - val_loss: 0.0036\n",
            "Epoch 94/100\n",
            "12/12 [==============================] - 2s 189ms/step - loss: 8.6810e-05 - val_loss: 0.0033\n",
            "Epoch 95/100\n",
            "12/12 [==============================] - 2s 190ms/step - loss: 8.9513e-05 - val_loss: 0.0065\n",
            "Epoch 96/100\n",
            "12/12 [==============================] - 2s 191ms/step - loss: 9.1161e-05 - val_loss: 0.0134\n",
            "Epoch 97/100\n",
            "12/12 [==============================] - 2s 188ms/step - loss: 7.5326e-05 - val_loss: 0.0103\n",
            "Epoch 98/100\n",
            "12/12 [==============================] - 2s 188ms/step - loss: 7.0634e-05 - val_loss: 0.0112\n",
            "Epoch 99/100\n",
            "12/12 [==============================] - 2s 191ms/step - loss: 7.7887e-05 - val_loss: 0.0053\n",
            "Epoch 100/100\n",
            "12/12 [==============================] - 2s 188ms/step - loss: 7.0583e-05 - val_loss: 0.0077\n"
          ],
          "name": "stdout"
        },
        {
          "output_type": "execute_result",
          "data": {
            "text/plain": [
              "<tensorflow.python.keras.callbacks.History at 0x7fd5cd5b7310>"
            ]
          },
          "metadata": {
            "tags": []
          },
          "execution_count": 27
        }
      ]
    },
    {
      "cell_type": "code",
      "metadata": {
        "id": "eo0aTb4IJGpa"
      },
      "source": [
        "train_predict=model.predict(X_train)\n",
        "test_predict=model.predict(X_test)"
      ],
      "execution_count": null,
      "outputs": []
    },
    {
      "cell_type": "code",
      "metadata": {
        "id": "M_TY-WWpJKG2"
      },
      "source": [
        "train_predict=scaler.inverse_transform(train_predict)\n",
        "test_predict=scaler.inverse_transform(test_predict)"
      ],
      "execution_count": null,
      "outputs": []
    },
    {
      "cell_type": "code",
      "metadata": {
        "id": "OYeqpID3JNvD",
        "colab": {
          "base_uri": "https://localhost:8080/"
        },
        "outputId": "254f0312-602b-4e73-a0e6-8b1809d11242"
      },
      "source": [
        "math.sqrt(mean_squared_error(y_train,train_predict))"
      ],
      "execution_count": null,
      "outputs": [
        {
          "output_type": "execute_result",
          "data": {
            "text/plain": [
              "43.69506227497433"
            ]
          },
          "metadata": {
            "tags": []
          },
          "execution_count": 30
        }
      ]
    },
    {
      "cell_type": "code",
      "metadata": {
        "id": "Bo5TCylcJZxf",
        "colab": {
          "base_uri": "https://localhost:8080/"
        },
        "outputId": "6f5927cc-05d2-478f-aeef-c60c1e4141b9"
      },
      "source": [
        "math.sqrt(mean_squared_error(ytest,test_predict))"
      ],
      "execution_count": null,
      "outputs": [
        {
          "output_type": "execute_result",
          "data": {
            "text/plain": [
              "107.13154705315813"
            ]
          },
          "metadata": {
            "tags": []
          },
          "execution_count": 31
        }
      ]
    },
    {
      "cell_type": "code",
      "metadata": {
        "colab": {
          "base_uri": "https://localhost:8080/",
          "height": 265
        },
        "id": "-V_0uf9kLPDM",
        "outputId": "800b9452-4906-471a-e0e6-fb441847db7d"
      },
      "source": [
        "look_back=100\n",
        "trainPredictPlot = numpy.empty_like(df1)\n",
        "trainPredictPlot[:, :] = np.nan\n",
        "trainPredictPlot[look_back:len(train_predict)+look_back, :] = train_predict\n",
        "# shift test predictions for plotting\n",
        "testPredictPlot = numpy.empty_like(df1)\n",
        "testPredictPlot[:, :] = numpy.nan\n",
        "testPredictPlot[len(train_predict)+(look_back*2)+1:len(df1)-1, :] = test_predict\n",
        "# plot baseline and predictions\n",
        "plt.plot(scaler.inverse_transform(df1))\n",
        "plt.plot(trainPredictPlot)\n",
        "plt.plot(testPredictPlot)\n",
        "plt.show()"
      ],
      "execution_count": null,
      "outputs": [
        {
          "output_type": "display_data",
          "data": {
            "image/png": "[encoded data removed]",
            "text/plain": [
              "<Figure size 432x288 with 1 Axes>"
            ]
          },
          "metadata": {
            "tags": [],
            "needs_background": "light"
          }
        }
      ]
    }
  ]
}
